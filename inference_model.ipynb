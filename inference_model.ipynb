{
 "cells": [
  {
   "cell_type": "markdown",
   "metadata": {},
   "source": [
    "# Import libraries"
   ]
  },
  {
   "cell_type": "code",
   "execution_count": 16,
   "metadata": {},
   "outputs": [],
   "source": [
    "import torch\n",
    "import torch.nn as nn\n",
    "import torchvision\n",
    "import argparse\n",
    "import json\n",
    "import numpy as np\n",
    "import time\n",
    "import os\n",
    "import torch.nn.functional as F\n",
    "from utils.main_model import MainModel\n",
    "from utils.data_loader import IAMDataLoader\n",
    "import matplotlib.pyplot as plt\n",
    "from utils.data_processing import create_mask\n",
    "from utils.metrics import translate, accuracy_char\n",
    "from utils.logger import Logger"
   ]
  },
  {
   "cell_type": "markdown",
   "metadata": {},
   "source": [
    "# Config paths and data for model"
   ]
  },
  {
   "cell_type": "code",
   "execution_count": 17,
   "metadata": {},
   "outputs": [],
   "source": [
    "with open(\"config.json\") as json_file:\n",
    "    config = json.load(json_file)\n",
    "\n",
    "    # Data\n",
    "    data = config[\"data\"]\n",
    "    path_data = data[\"path_data\"]\n",
    "    path_preprocessing_data = data[\"path_preprocessing_data\"]\n",
    "\n",
    "    # Label\n",
    "    path_label_forms = data[\"path_label_forms\"]\n",
    "    path_label_lines = data[\"path_label_lines\"]\n",
    "    path_label_sentences = data[\"path_label_sentences\"]\n",
    "    path_label_words = data[\"path_label_words\"]\n",
    "\n",
    "    # Images\n",
    "    path_forms = data[\"path_forms\"]\n",
    "    path_lines = data[\"path_lines\"]\n",
    "    path_sentences = data[\"path_sentences\"]\n",
    "    path_words = data[\"path_words\"]\n",
    "\n",
    "    # Model\n",
    "    models = config[\"models\"]\n",
    "    batch_size = models[\"batch_size\"]\n",
    "    d_model = models[\"d_model\"]\n",
    "    heads = models[\"heads\"]\n",
    "    N = models[\"N\"]\n",
    "    path_checkpoints = models[\"checkpoints\"]\n",
    "    path_logs = models[\"logs\"]\n",
    "    lr = models[\"learning_rate\"]"
   ]
  },
  {
   "cell_type": "markdown",
   "metadata": {},
   "source": [
    "# Configuration for model"
   ]
  },
  {
   "cell_type": "code",
   "execution_count": 18,
   "metadata": {},
   "outputs": [],
   "source": [
    "# Target vocab\n",
    "with open(os.path.join(path_preprocessing_data, \"dict_char.txt\")) as f:\n",
    "    trg_vocab = np.shape(f.readlines())[0] + 2\n",
    "\n",
    "# Define model\n",
    "model = MainModel(trg_vocab, d_model, N, heads)\n",
    "model = model.cuda()\n",
    "model.load_state_dict(torch.load(\"checkpoints/11/model_checkpoint_11.pth\"))"
   ]
  },
  {
   "cell_type": "markdown",
   "metadata": {},
   "source": [
    "# Load previous tensorboard"
   ]
  },
  {
   "cell_type": "code",
   "execution_count": 23,
   "metadata": {},
   "outputs": [
    {
     "data": {
      "text/plain": [
       "Reusing TensorBoard on port 6006 (pid 13136), started 0:02:27 ago. (Use '!kill 13136' to kill it.)"
      ]
     },
     "metadata": {},
     "output_type": "display_data"
    },
    {
     "data": {
      "text/html": [
       "\n",
       "        <iframe\n",
       "            width=\"100%\"\n",
       "            height=\"600\"\n",
       "            src=\"http://localhost:6006\"\n",
       "            frameborder=\"0\"\n",
       "            allowfullscreen\n",
       "        ></iframe>\n",
       "        "
      ],
      "text/plain": [
       "<IPython.lib.display.IFrame at 0x19df8765d30>"
      ]
     },
     "metadata": {},
     "output_type": "display_data"
    }
   ],
   "source": [
    "%reload_ext tensorboard.notebook\n",
    "%tensorboard --logdir logs"
   ]
  },
  {
   "cell_type": "markdown",
   "metadata": {},
   "source": [
    "# Main\n",
    "In this section, text images are loaded and fed forward into model. However, the mechanism of decoder is different from training phase. Particularly, the decoder is trained with teacher forcing approach, but in infernece stage, the predicted character becomes the input target for the following character."
   ]
  },
  {
   "cell_type": "code",
   "execution_count": null,
   "metadata": {},
   "outputs": [],
   "source": []
  }
 ],
 "metadata": {
  "kernelspec": {
   "display_name": "Python 3",
   "language": "python",
   "name": "python3"
  },
  "language_info": {
   "codemirror_mode": {
    "name": "ipython",
    "version": 3
   },
   "file_extension": ".py",
   "mimetype": "text/x-python",
   "name": "python",
   "nbconvert_exporter": "python",
   "pygments_lexer": "ipython3",
   "version": "3.7.1"
  }
 },
 "nbformat": 4,
 "nbformat_minor": 2
}
